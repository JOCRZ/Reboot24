{
  "nbformat": 4,
  "nbformat_minor": 0,
  "metadata": {
    "colab": {
      "provenance": []
    },
    "kernelspec": {
      "name": "python3",
      "display_name": "Python 3"
    },
    "language_info": {
      "name": "python"
    }
  },
  "cells": [
    {
      "cell_type": "markdown",
      "source": [
        "# Scrapping Reboot 24 Job openings"
      ],
      "metadata": {
        "id": "pM9ZiHIxp8s8"
      }
    },
    {
      "cell_type": "markdown",
      "source": [
        "## Importing"
      ],
      "metadata": {
        "id": "1OJi3YSBrLl9"
      }
    },
    {
      "cell_type": "code",
      "execution_count": null,
      "metadata": {
        "id": "0MUNNOB0ZEps"
      },
      "outputs": [],
      "source": [
        "import requests\n",
        "from bs4 import BeautifulSoup\n",
        "import pandas as pd"
      ]
    },
    {
      "cell_type": "code",
      "source": [
        "\n",
        "base_url = \"https://reboot.cafit.org.in/openings\""
      ],
      "metadata": {
        "id": "hCEk4q9jZtqS"
      },
      "execution_count": null,
      "outputs": []
    },
    {
      "cell_type": "code",
      "source": [
        "webpage = requests.get(base_url).text"
      ],
      "metadata": {
        "id": "wbVigxu5aATm"
      },
      "execution_count": null,
      "outputs": []
    },
    {
      "cell_type": "code",
      "source": [
        "soup=BeautifulSoup(webpage,'lxml')"
      ],
      "metadata": {
        "id": "fk5xlB0nabxu"
      },
      "execution_count": null,
      "outputs": []
    },
    {
      "cell_type": "markdown",
      "source": [
        "## Extracting specific tags"
      ],
      "metadata": {
        "id": "aDwYGT1wqXze"
      }
    },
    {
      "cell_type": "code",
      "source": [
        "# Job position\n",
        "soup.find_all('h5',class_=\"card-title\")[0].text.strip()"
      ],
      "metadata": {
        "colab": {
          "base_uri": "https://localhost:8080/",
          "height": 35
        },
        "id": "WVhMocXhbnCF",
        "outputId": "3a555fce-f332-4192-ef36-f3aaf3089eb0"
      },
      "execution_count": null,
      "outputs": [
        {
          "output_type": "execute_result",
          "data": {
            "text/plain": [
              "'2D/3D Animator'"
            ],
            "application/vnd.google.colaboratory.intrinsic+json": {
              "type": "string"
            }
          },
          "metadata": {},
          "execution_count": 50
        }
      ]
    },
    {
      "cell_type": "code",
      "source": [
        "# Company name\n",
        "soup.find_all('p',class_=\"card-text\")[0].text.strip()"
      ],
      "metadata": {
        "colab": {
          "base_uri": "https://localhost:8080/",
          "height": 35
        },
        "id": "_lyssHUycb0r",
        "outputId": "935434ba-7ecd-42a6-fa54-8f1d4b087a78"
      },
      "execution_count": null,
      "outputs": [
        {
          "output_type": "execute_result",
          "data": {
            "text/plain": [
              "'Codeace It Solutions Llp'"
            ],
            "application/vnd.google.colaboratory.intrinsic+json": {
              "type": "string"
            }
          },
          "metadata": {},
          "execution_count": 45
        }
      ]
    },
    {
      "cell_type": "code",
      "source": [
        "# Skills\n",
        "soup.find_all('p',class_=\"text-muted\")[0].text.strip()"
      ],
      "metadata": {
        "colab": {
          "base_uri": "https://localhost:8080/",
          "height": 53
        },
        "id": "QAtQjNJQeP4J",
        "outputId": "88d6b982-0096-46f9-c37e-e1410f9e25e9"
      },
      "execution_count": null,
      "outputs": [
        {
          "output_type": "execute_result",
          "data": {
            "text/plain": [
              "'Required skills: \\n                                                                                                                    3D:- Blender, C4D, UnrealEngine, Maya, Substance Painter Etc..'"
            ],
            "application/vnd.google.colaboratory.intrinsic+json": {
              "type": "string"
            }
          },
          "metadata": {},
          "execution_count": 46
        }
      ]
    },
    {
      "cell_type": "code",
      "source": [
        "# Openings\n",
        "soup.find_all('span',class_=\"badge bg-primary\")[0].text.strip()"
      ],
      "metadata": {
        "colab": {
          "base_uri": "https://localhost:8080/",
          "height": 35
        },
        "outputId": "4207f932-50c7-4531-977c-6f3d7cd578c1",
        "id": "zyyUckD3e1bC"
      },
      "execution_count": null,
      "outputs": [
        {
          "output_type": "execute_result",
          "data": {
            "text/plain": [
              "'Openings:\\n                                                    2'"
            ],
            "application/vnd.google.colaboratory.intrinsic+json": {
              "type": "string"
            }
          },
          "metadata": {},
          "execution_count": 76
        }
      ]
    },
    {
      "cell_type": "code",
      "source": [
        "# Experiance\n",
        "soup.find_all('p',class_=\"mt-2 mb-0 pb-0\")[0].text.strip()"
      ],
      "metadata": {
        "colab": {
          "base_uri": "https://localhost:8080/",
          "height": 35
        },
        "outputId": "76b0ea77-6aa4-477f-b854-57b475189ba1",
        "id": "fiGhtH2be1-W"
      },
      "execution_count": null,
      "outputs": [
        {
          "output_type": "execute_result",
          "data": {
            "text/plain": [
              "'Exp: 1 year'"
            ],
            "application/vnd.google.colaboratory.intrinsic+json": {
              "type": "string"
            }
          },
          "metadata": {},
          "execution_count": 48
        }
      ]
    },
    {
      "cell_type": "code",
      "source": [
        "# finding total openings to scrap"
      ],
      "metadata": {
        "id": "jTcSCXZKqgaI"
      },
      "execution_count": null,
      "outputs": []
    },
    {
      "cell_type": "code",
      "source": [
        "len(soup.find_all('h1'))"
      ],
      "metadata": {
        "colab": {
          "base_uri": "https://localhost:8080/"
        },
        "id": "J-KYPQsbgg59",
        "outputId": "af690b0c-4e62-4185-a961-82f75039e94a"
      },
      "execution_count": null,
      "outputs": [
        {
          "output_type": "execute_result",
          "data": {
            "text/plain": [
              "448"
            ]
          },
          "metadata": {},
          "execution_count": 60
        }
      ]
    },
    {
      "cell_type": "markdown",
      "source": [
        "## Scarpping and saving has a data frame"
      ],
      "metadata": {
        "id": "16qYisLpqua-"
      }
    },
    {
      "cell_type": "code",
      "source": [
        "Position = []\n",
        "Company = []\n",
        "Skills = []\n",
        "Openings = []\n",
        "Experiance = []\n",
        "\n",
        "for i in range(447):\n",
        "  Position.append([i for i in soup.findAll('h5',class_=\"card-title\")][i].text.strip())\n",
        "  Company.append([i for i in soup.findAll('p',class_=\"card-text\")][i].text.strip())\n",
        "  Skills.append([i for i in soup.findAll('p',class_=\"text-muted\")][i].text.strip())\n",
        "  Openings.append([i for i in soup.findAll('span',class_=\"badge bg-primary\")][i].text.strip())\n",
        "  Experiance.append([i for i in soup.findAll('p',class_=\"mt-2 mb-0 pb-0\")][i].text.strip())\n",
        "\n",
        "dictionary = {'Position':Position,'Company':Company,'Skills':Skills,'Openings':Openings,'Experiance':Experiance}\n",
        "df = pd.DataFrame(dictionary)\n"
      ],
      "metadata": {
        "id": "J5x1EpVsfHUA"
      },
      "execution_count": null,
      "outputs": []
    },
    {
      "cell_type": "code",
      "source": [
        "df"
      ],
      "metadata": {
        "colab": {
          "base_uri": "https://localhost:8080/",
          "height": 424
        },
        "id": "vu4306-fkIfR",
        "outputId": "0ec55ae4-7c7f-4deb-87c5-4d36f6069d70"
      },
      "execution_count": null,
      "outputs": [
        {
          "output_type": "execute_result",
          "data": {
            "text/plain": [
              "                              Position                        Company  \\\n",
              "0                       2D/3D Animator       Codeace It Solutions Llp   \n",
              "1                          3D Animator                    Softroniics   \n",
              "2           3D Artist (Blender,Unreal)        Aerovative Technologies   \n",
              "3                  3D Modelling Artist                     Iluzia Lab   \n",
              "4    Academic Admin Cum Centre Manager                   Aviv Digital   \n",
              "..                                 ...                            ...   \n",
              "442               Windows Adminstrator            Techbrein Solutions   \n",
              "443                Wordpress Developer          Cybrosys Technologies   \n",
              "444                Wordpress Developer       Codeace It Solutions Llp   \n",
              "445                Wordpress Developer  Hexeam Software Solutions Llp   \n",
              "446                  Wordpress Trainer                   Aviv Digital   \n",
              "\n",
              "                                                Skills  \\\n",
              "0    Required skills: \\n                           ...   \n",
              "1    Required skills: \\n                           ...   \n",
              "2    Required skills: \\n                           ...   \n",
              "3    Required skills: \\n                           ...   \n",
              "4    Required skills: \\n                           ...   \n",
              "..                                                 ...   \n",
              "442  Required skills: \\n                           ...   \n",
              "443  Required skills: \\n                           ...   \n",
              "444  Required skills: \\n                           ...   \n",
              "445  Required skills: \\n                           ...   \n",
              "446  Required skills: \\n                           ...   \n",
              "\n",
              "                                              Openings    Experiance  \n",
              "0    Openings:\\n                                   ...   Exp: 1 year  \n",
              "1    Openings:\\n                                   ...  Exp: Fresher  \n",
              "2    Openings:\\n                                   ...   Exp: 1 year  \n",
              "3    Openings:\\n                                   ...  Exp: 2 years  \n",
              "4    Openings:\\n                                   ...   Exp: 1 year  \n",
              "..                                                 ...           ...  \n",
              "442  Openings:\\n                                   ...   Exp: 1 year  \n",
              "443  Openings:\\n                                   ...   Exp: 1 year  \n",
              "444  Openings:\\n                                   ...  Exp: 2 years  \n",
              "445  Openings:\\n                                   ...   Exp: 1 year  \n",
              "446  Openings:\\n                                   ...  Exp: 2 years  \n",
              "\n",
              "[447 rows x 5 columns]"
            ],
            "text/html": [
              "\n",
              "  <div id=\"df-b32865e1-89c2-4924-a68e-d77fb16176d3\" class=\"colab-df-container\">\n",
              "    <div>\n",
              "<style scoped>\n",
              "    .dataframe tbody tr th:only-of-type {\n",
              "        vertical-align: middle;\n",
              "    }\n",
              "\n",
              "    .dataframe tbody tr th {\n",
              "        vertical-align: top;\n",
              "    }\n",
              "\n",
              "    .dataframe thead th {\n",
              "        text-align: right;\n",
              "    }\n",
              "</style>\n",
              "<table border=\"1\" class=\"dataframe\">\n",
              "  <thead>\n",
              "    <tr style=\"text-align: right;\">\n",
              "      <th></th>\n",
              "      <th>Position</th>\n",
              "      <th>Company</th>\n",
              "      <th>Skills</th>\n",
              "      <th>Openings</th>\n",
              "      <th>Experiance</th>\n",
              "    </tr>\n",
              "  </thead>\n",
              "  <tbody>\n",
              "    <tr>\n",
              "      <th>0</th>\n",
              "      <td>2D/3D Animator</td>\n",
              "      <td>Codeace It Solutions Llp</td>\n",
              "      <td>Required skills: \\n                           ...</td>\n",
              "      <td>Openings:\\n                                   ...</td>\n",
              "      <td>Exp: 1 year</td>\n",
              "    </tr>\n",
              "    <tr>\n",
              "      <th>1</th>\n",
              "      <td>3D Animator</td>\n",
              "      <td>Softroniics</td>\n",
              "      <td>Required skills: \\n                           ...</td>\n",
              "      <td>Openings:\\n                                   ...</td>\n",
              "      <td>Exp: Fresher</td>\n",
              "    </tr>\n",
              "    <tr>\n",
              "      <th>2</th>\n",
              "      <td>3D Artist (Blender,Unreal)</td>\n",
              "      <td>Aerovative Technologies</td>\n",
              "      <td>Required skills: \\n                           ...</td>\n",
              "      <td>Openings:\\n                                   ...</td>\n",
              "      <td>Exp: 1 year</td>\n",
              "    </tr>\n",
              "    <tr>\n",
              "      <th>3</th>\n",
              "      <td>3D Modelling Artist</td>\n",
              "      <td>Iluzia Lab</td>\n",
              "      <td>Required skills: \\n                           ...</td>\n",
              "      <td>Openings:\\n                                   ...</td>\n",
              "      <td>Exp: 2 years</td>\n",
              "    </tr>\n",
              "    <tr>\n",
              "      <th>4</th>\n",
              "      <td>Academic Admin Cum Centre Manager</td>\n",
              "      <td>Aviv Digital</td>\n",
              "      <td>Required skills: \\n                           ...</td>\n",
              "      <td>Openings:\\n                                   ...</td>\n",
              "      <td>Exp: 1 year</td>\n",
              "    </tr>\n",
              "    <tr>\n",
              "      <th>...</th>\n",
              "      <td>...</td>\n",
              "      <td>...</td>\n",
              "      <td>...</td>\n",
              "      <td>...</td>\n",
              "      <td>...</td>\n",
              "    </tr>\n",
              "    <tr>\n",
              "      <th>442</th>\n",
              "      <td>Windows Adminstrator</td>\n",
              "      <td>Techbrein Solutions</td>\n",
              "      <td>Required skills: \\n                           ...</td>\n",
              "      <td>Openings:\\n                                   ...</td>\n",
              "      <td>Exp: 1 year</td>\n",
              "    </tr>\n",
              "    <tr>\n",
              "      <th>443</th>\n",
              "      <td>Wordpress Developer</td>\n",
              "      <td>Cybrosys Technologies</td>\n",
              "      <td>Required skills: \\n                           ...</td>\n",
              "      <td>Openings:\\n                                   ...</td>\n",
              "      <td>Exp: 1 year</td>\n",
              "    </tr>\n",
              "    <tr>\n",
              "      <th>444</th>\n",
              "      <td>Wordpress Developer</td>\n",
              "      <td>Codeace It Solutions Llp</td>\n",
              "      <td>Required skills: \\n                           ...</td>\n",
              "      <td>Openings:\\n                                   ...</td>\n",
              "      <td>Exp: 2 years</td>\n",
              "    </tr>\n",
              "    <tr>\n",
              "      <th>445</th>\n",
              "      <td>Wordpress Developer</td>\n",
              "      <td>Hexeam Software Solutions Llp</td>\n",
              "      <td>Required skills: \\n                           ...</td>\n",
              "      <td>Openings:\\n                                   ...</td>\n",
              "      <td>Exp: 1 year</td>\n",
              "    </tr>\n",
              "    <tr>\n",
              "      <th>446</th>\n",
              "      <td>Wordpress Trainer</td>\n",
              "      <td>Aviv Digital</td>\n",
              "      <td>Required skills: \\n                           ...</td>\n",
              "      <td>Openings:\\n                                   ...</td>\n",
              "      <td>Exp: 2 years</td>\n",
              "    </tr>\n",
              "  </tbody>\n",
              "</table>\n",
              "<p>447 rows × 5 columns</p>\n",
              "</div>\n",
              "    <div class=\"colab-df-buttons\">\n",
              "\n",
              "  <div class=\"colab-df-container\">\n",
              "    <button class=\"colab-df-convert\" onclick=\"convertToInteractive('df-b32865e1-89c2-4924-a68e-d77fb16176d3')\"\n",
              "            title=\"Convert this dataframe to an interactive table.\"\n",
              "            style=\"display:none;\">\n",
              "\n",
              "  <svg xmlns=\"http://www.w3.org/2000/svg\" height=\"24px\" viewBox=\"0 -960 960 960\">\n",
              "    <path d=\"M120-120v-720h720v720H120Zm60-500h600v-160H180v160Zm220 220h160v-160H400v160Zm0 220h160v-160H400v160ZM180-400h160v-160H180v160Zm440 0h160v-160H620v160ZM180-180h160v-160H180v160Zm440 0h160v-160H620v160Z\"/>\n",
              "  </svg>\n",
              "    </button>\n",
              "\n",
              "  <style>\n",
              "    .colab-df-container {\n",
              "      display:flex;\n",
              "      gap: 12px;\n",
              "    }\n",
              "\n",
              "    .colab-df-convert {\n",
              "      background-color: #E8F0FE;\n",
              "      border: none;\n",
              "      border-radius: 50%;\n",
              "      cursor: pointer;\n",
              "      display: none;\n",
              "      fill: #1967D2;\n",
              "      height: 32px;\n",
              "      padding: 0 0 0 0;\n",
              "      width: 32px;\n",
              "    }\n",
              "\n",
              "    .colab-df-convert:hover {\n",
              "      background-color: #E2EBFA;\n",
              "      box-shadow: 0px 1px 2px rgba(60, 64, 67, 0.3), 0px 1px 3px 1px rgba(60, 64, 67, 0.15);\n",
              "      fill: #174EA6;\n",
              "    }\n",
              "\n",
              "    .colab-df-buttons div {\n",
              "      margin-bottom: 4px;\n",
              "    }\n",
              "\n",
              "    [theme=dark] .colab-df-convert {\n",
              "      background-color: #3B4455;\n",
              "      fill: #D2E3FC;\n",
              "    }\n",
              "\n",
              "    [theme=dark] .colab-df-convert:hover {\n",
              "      background-color: #434B5C;\n",
              "      box-shadow: 0px 1px 3px 1px rgba(0, 0, 0, 0.15);\n",
              "      filter: drop-shadow(0px 1px 2px rgba(0, 0, 0, 0.3));\n",
              "      fill: #FFFFFF;\n",
              "    }\n",
              "  </style>\n",
              "\n",
              "    <script>\n",
              "      const buttonEl =\n",
              "        document.querySelector('#df-b32865e1-89c2-4924-a68e-d77fb16176d3 button.colab-df-convert');\n",
              "      buttonEl.style.display =\n",
              "        google.colab.kernel.accessAllowed ? 'block' : 'none';\n",
              "\n",
              "      async function convertToInteractive(key) {\n",
              "        const element = document.querySelector('#df-b32865e1-89c2-4924-a68e-d77fb16176d3');\n",
              "        const dataTable =\n",
              "          await google.colab.kernel.invokeFunction('convertToInteractive',\n",
              "                                                    [key], {});\n",
              "        if (!dataTable) return;\n",
              "\n",
              "        const docLinkHtml = 'Like what you see? Visit the ' +\n",
              "          '<a target=\"_blank\" href=https://colab.research.google.com/notebooks/data_table.ipynb>data table notebook</a>'\n",
              "          + ' to learn more about interactive tables.';\n",
              "        element.innerHTML = '';\n",
              "        dataTable['output_type'] = 'display_data';\n",
              "        await google.colab.output.renderOutput(dataTable, element);\n",
              "        const docLink = document.createElement('div');\n",
              "        docLink.innerHTML = docLinkHtml;\n",
              "        element.appendChild(docLink);\n",
              "      }\n",
              "    </script>\n",
              "  </div>\n",
              "\n",
              "\n",
              "<div id=\"df-253f810e-fc50-4e84-a9b6-d0a3baf3ad39\">\n",
              "  <button class=\"colab-df-quickchart\" onclick=\"quickchart('df-253f810e-fc50-4e84-a9b6-d0a3baf3ad39')\"\n",
              "            title=\"Suggest charts\"\n",
              "            style=\"display:none;\">\n",
              "\n",
              "<svg xmlns=\"http://www.w3.org/2000/svg\" height=\"24px\"viewBox=\"0 0 24 24\"\n",
              "     width=\"24px\">\n",
              "    <g>\n",
              "        <path d=\"M19 3H5c-1.1 0-2 .9-2 2v14c0 1.1.9 2 2 2h14c1.1 0 2-.9 2-2V5c0-1.1-.9-2-2-2zM9 17H7v-7h2v7zm4 0h-2V7h2v10zm4 0h-2v-4h2v4z\"/>\n",
              "    </g>\n",
              "</svg>\n",
              "  </button>\n",
              "\n",
              "<style>\n",
              "  .colab-df-quickchart {\n",
              "      --bg-color: #E8F0FE;\n",
              "      --fill-color: #1967D2;\n",
              "      --hover-bg-color: #E2EBFA;\n",
              "      --hover-fill-color: #174EA6;\n",
              "      --disabled-fill-color: #AAA;\n",
              "      --disabled-bg-color: #DDD;\n",
              "  }\n",
              "\n",
              "  [theme=dark] .colab-df-quickchart {\n",
              "      --bg-color: #3B4455;\n",
              "      --fill-color: #D2E3FC;\n",
              "      --hover-bg-color: #434B5C;\n",
              "      --hover-fill-color: #FFFFFF;\n",
              "      --disabled-bg-color: #3B4455;\n",
              "      --disabled-fill-color: #666;\n",
              "  }\n",
              "\n",
              "  .colab-df-quickchart {\n",
              "    background-color: var(--bg-color);\n",
              "    border: none;\n",
              "    border-radius: 50%;\n",
              "    cursor: pointer;\n",
              "    display: none;\n",
              "    fill: var(--fill-color);\n",
              "    height: 32px;\n",
              "    padding: 0;\n",
              "    width: 32px;\n",
              "  }\n",
              "\n",
              "  .colab-df-quickchart:hover {\n",
              "    background-color: var(--hover-bg-color);\n",
              "    box-shadow: 0 1px 2px rgba(60, 64, 67, 0.3), 0 1px 3px 1px rgba(60, 64, 67, 0.15);\n",
              "    fill: var(--button-hover-fill-color);\n",
              "  }\n",
              "\n",
              "  .colab-df-quickchart-complete:disabled,\n",
              "  .colab-df-quickchart-complete:disabled:hover {\n",
              "    background-color: var(--disabled-bg-color);\n",
              "    fill: var(--disabled-fill-color);\n",
              "    box-shadow: none;\n",
              "  }\n",
              "\n",
              "  .colab-df-spinner {\n",
              "    border: 2px solid var(--fill-color);\n",
              "    border-color: transparent;\n",
              "    border-bottom-color: var(--fill-color);\n",
              "    animation:\n",
              "      spin 1s steps(1) infinite;\n",
              "  }\n",
              "\n",
              "  @keyframes spin {\n",
              "    0% {\n",
              "      border-color: transparent;\n",
              "      border-bottom-color: var(--fill-color);\n",
              "      border-left-color: var(--fill-color);\n",
              "    }\n",
              "    20% {\n",
              "      border-color: transparent;\n",
              "      border-left-color: var(--fill-color);\n",
              "      border-top-color: var(--fill-color);\n",
              "    }\n",
              "    30% {\n",
              "      border-color: transparent;\n",
              "      border-left-color: var(--fill-color);\n",
              "      border-top-color: var(--fill-color);\n",
              "      border-right-color: var(--fill-color);\n",
              "    }\n",
              "    40% {\n",
              "      border-color: transparent;\n",
              "      border-right-color: var(--fill-color);\n",
              "      border-top-color: var(--fill-color);\n",
              "    }\n",
              "    60% {\n",
              "      border-color: transparent;\n",
              "      border-right-color: var(--fill-color);\n",
              "    }\n",
              "    80% {\n",
              "      border-color: transparent;\n",
              "      border-right-color: var(--fill-color);\n",
              "      border-bottom-color: var(--fill-color);\n",
              "    }\n",
              "    90% {\n",
              "      border-color: transparent;\n",
              "      border-bottom-color: var(--fill-color);\n",
              "    }\n",
              "  }\n",
              "</style>\n",
              "\n",
              "  <script>\n",
              "    async function quickchart(key) {\n",
              "      const quickchartButtonEl =\n",
              "        document.querySelector('#' + key + ' button');\n",
              "      quickchartButtonEl.disabled = true;  // To prevent multiple clicks.\n",
              "      quickchartButtonEl.classList.add('colab-df-spinner');\n",
              "      try {\n",
              "        const charts = await google.colab.kernel.invokeFunction(\n",
              "            'suggestCharts', [key], {});\n",
              "      } catch (error) {\n",
              "        console.error('Error during call to suggestCharts:', error);\n",
              "      }\n",
              "      quickchartButtonEl.classList.remove('colab-df-spinner');\n",
              "      quickchartButtonEl.classList.add('colab-df-quickchart-complete');\n",
              "    }\n",
              "    (() => {\n",
              "      let quickchartButtonEl =\n",
              "        document.querySelector('#df-253f810e-fc50-4e84-a9b6-d0a3baf3ad39 button');\n",
              "      quickchartButtonEl.style.display =\n",
              "        google.colab.kernel.accessAllowed ? 'block' : 'none';\n",
              "    })();\n",
              "  </script>\n",
              "</div>\n",
              "\n",
              "  <div id=\"id_669a7206-17e4-498b-81ef-1fcadfcdb667\">\n",
              "    <style>\n",
              "      .colab-df-generate {\n",
              "        background-color: #E8F0FE;\n",
              "        border: none;\n",
              "        border-radius: 50%;\n",
              "        cursor: pointer;\n",
              "        display: none;\n",
              "        fill: #1967D2;\n",
              "        height: 32px;\n",
              "        padding: 0 0 0 0;\n",
              "        width: 32px;\n",
              "      }\n",
              "\n",
              "      .colab-df-generate:hover {\n",
              "        background-color: #E2EBFA;\n",
              "        box-shadow: 0px 1px 2px rgba(60, 64, 67, 0.3), 0px 1px 3px 1px rgba(60, 64, 67, 0.15);\n",
              "        fill: #174EA6;\n",
              "      }\n",
              "\n",
              "      [theme=dark] .colab-df-generate {\n",
              "        background-color: #3B4455;\n",
              "        fill: #D2E3FC;\n",
              "      }\n",
              "\n",
              "      [theme=dark] .colab-df-generate:hover {\n",
              "        background-color: #434B5C;\n",
              "        box-shadow: 0px 1px 3px 1px rgba(0, 0, 0, 0.15);\n",
              "        filter: drop-shadow(0px 1px 2px rgba(0, 0, 0, 0.3));\n",
              "        fill: #FFFFFF;\n",
              "      }\n",
              "    </style>\n",
              "    <button class=\"colab-df-generate\" onclick=\"generateWithVariable('df')\"\n",
              "            title=\"Generate code using this dataframe.\"\n",
              "            style=\"display:none;\">\n",
              "\n",
              "  <svg xmlns=\"http://www.w3.org/2000/svg\" height=\"24px\"viewBox=\"0 0 24 24\"\n",
              "       width=\"24px\">\n",
              "    <path d=\"M7,19H8.4L18.45,9,17,7.55,7,17.6ZM5,21V16.75L18.45,3.32a2,2,0,0,1,2.83,0l1.4,1.43a1.91,1.91,0,0,1,.58,1.4,1.91,1.91,0,0,1-.58,1.4L9.25,21ZM18.45,9,17,7.55Zm-12,3A5.31,5.31,0,0,0,4.9,8.1,5.31,5.31,0,0,0,1,6.5,5.31,5.31,0,0,0,4.9,4.9,5.31,5.31,0,0,0,6.5,1,5.31,5.31,0,0,0,8.1,4.9,5.31,5.31,0,0,0,12,6.5,5.46,5.46,0,0,0,6.5,12Z\"/>\n",
              "  </svg>\n",
              "    </button>\n",
              "    <script>\n",
              "      (() => {\n",
              "      const buttonEl =\n",
              "        document.querySelector('#id_669a7206-17e4-498b-81ef-1fcadfcdb667 button.colab-df-generate');\n",
              "      buttonEl.style.display =\n",
              "        google.colab.kernel.accessAllowed ? 'block' : 'none';\n",
              "\n",
              "      buttonEl.onclick = () => {\n",
              "        google.colab.notebook.generateWithVariable('df');\n",
              "      }\n",
              "      })();\n",
              "    </script>\n",
              "  </div>\n",
              "\n",
              "    </div>\n",
              "  </div>\n"
            ],
            "application/vnd.google.colaboratory.intrinsic+json": {
              "type": "dataframe",
              "variable_name": "df",
              "summary": "{\n  \"name\": \"df\",\n  \"rows\": 447,\n  \"fields\": [\n    {\n      \"column\": \"Position\",\n      \"properties\": {\n        \"dtype\": \"string\",\n        \"num_unique_values\": 252,\n        \"samples\": [\n          \"Partnership Manager\",\n          \"Accountant\",\n          \"Hr Manager\"\n        ],\n        \"semantic_type\": \"\",\n        \"description\": \"\"\n      }\n    },\n    {\n      \"column\": \"Company\",\n      \"properties\": {\n        \"dtype\": \"category\",\n        \"num_unique_values\": 57,\n        \"samples\": [\n          \"Codeace It Solutions Llp\",\n          \"Doctosmart Enterprises Pvt. Ltd\",\n          \"Playspots\"\n        ],\n        \"semantic_type\": \"\",\n        \"description\": \"\"\n      }\n    },\n    {\n      \"column\": \"Skills\",\n      \"properties\": {\n        \"dtype\": \"string\",\n        \"num_unique_values\": 353,\n        \"samples\": [\n          \"Required skills: \\n                                                                                                                    MS Office and Excel\",\n          \"Required skills: \\n                                                                                                                    Agile Methodologies                                                                ,\\n                                                                                                                                                                                Business Analyst\",\n          \"Required skills: \\n                                                                                                                    Laravel                                                                ,\\n                                                                                                                                                                                MongoDB                                                                ,\\n                                                                                                                                                                                MySQL                                                                ,\\n                                                                                                                                                                                React\"\n        ],\n        \"semantic_type\": \"\",\n        \"description\": \"\"\n      }\n    },\n    {\n      \"column\": \"Openings\",\n      \"properties\": {\n        \"dtype\": \"category\",\n        \"num_unique_values\": 14,\n        \"samples\": [\n          \"Openings:\\n                                                    10\",\n          \"Openings:\\n                                                    30\",\n          \"Openings:\\n                                                    2\"\n        ],\n        \"semantic_type\": \"\",\n        \"description\": \"\"\n      }\n    },\n    {\n      \"column\": \"Experiance\",\n      \"properties\": {\n        \"dtype\": \"category\",\n        \"num_unique_values\": 8,\n        \"samples\": [\n          \"Exp: Fresher\",\n          \"Exp: 4 years\",\n          \"Exp: 1 year\"\n        ],\n        \"semantic_type\": \"\",\n        \"description\": \"\"\n      }\n    }\n  ]\n}"
            }
          },
          "metadata": {},
          "execution_count": 79
        }
      ]
    },
    {
      "cell_type": "code",
      "source": [
        "#df.to_csv('Openings.csv',header=df.columns,index=False,encoding='utf-8')"
      ],
      "metadata": {
        "id": "GiJxrCwQl1Tu"
      },
      "execution_count": null,
      "outputs": []
    }
  ]
}